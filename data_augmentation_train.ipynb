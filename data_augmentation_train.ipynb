{
 "cells": [
  {
   "cell_type": "code",
   "execution_count": 70,
   "metadata": {
    "collapsed": true
   },
   "outputs": [],
   "source": [
    "# -*- coding: utf-8 -*-\n",
    "import gc\n",
    "import numpy as np\n",
    "import pandas as pd"
   ]
  },
  {
   "cell_type": "code",
   "execution_count": 71,
   "metadata": {
    "collapsed": true
   },
   "outputs": [],
   "source": [
    "INPUT_WIDTH = 19 # Any length >= 19, which is the max no. of time obs per hour\n",
    "CV = 0 # Cross validation set label\n",
    "NUM_RAND = 2 # No. of augmented samples ,original 60  too many;\n",
    "COLUMNS = ['Id','minutes_past', 'radardist_km', 'Ref', 'Ref_5x5_10th',\n",
    "       'Ref_5x5_50th', 'Ref_5x5_90th', 'RefComposite',\n",
    "       'RefComposite_5x5_10th', 'RefComposite_5x5_50th',\n",
    "       'RefComposite_5x5_90th', 'RhoHV', 'RhoHV_5x5_10th',\n",
    "       'RhoHV_5x5_50th', 'RhoHV_5x5_90th', 'Zdr', 'Zdr_5x5_10th',\n",
    "       'Zdr_5x5_50th', 'Zdr_5x5_90th', 'Kdp', 'Kdp_5x5_10th',\n",
    "       'Kdp_5x5_50th', 'Kdp_5x5_90th', 'Expected']"
   ]
  },
  {
   "cell_type": "code",
   "execution_count": 72,
   "metadata": {
    "collapsed": false
   },
   "outputs": [],
   "source": [
    "####### 2. Create random seeds #######\n",
    "# Any lists would do...\n",
    "rng_seed_list1 = [234561, 23451, 2341, 231, 21, 678901, 67891, 6781, 671, 16,\n",
    "                  77177]\n",
    "rng_seed_list2 = [range(9725, 9727+50*7, 7)]\n",
    "rng_seed_list3 = [range(9726, 9728+50*7, 7)]\n",
    "\n",
    "rng_seed_list = rng_seed_list1 + rng_seed_list2 + rng_seed_list3\n",
    "assert len(rng_seed_list) >= NUM_RAND"
   ]
  },
  {
   "cell_type": "code",
   "execution_count": 182,
   "metadata": {
    "collapsed": false
   },
   "outputs": [],
   "source": [
    "X = np.array(data_pd_gp.get_group(2))[:,1:23]\n",
    "rng = np.random.RandomState(rng_seed_list[1])\n",
    "target_len=19"
   ]
  },
  {
   "cell_type": "code",
   "execution_count": 196,
   "metadata": {
    "collapsed": false
   },
   "outputs": [
    {
     "name": "stdout",
     "output_type": "stream",
     "text": [
      "0\n",
      "1\n",
      "2\n",
      "3\n",
      "4\n",
      "5\n",
      "6\n",
      "7\n",
      "8\n",
      "9\n",
      "10\n",
      "11\n"
     ]
    }
   ],
   "source": [
    "for j in range(curr_len):\n",
    "    print(j)"
   ]
  },
  {
   "cell_type": "code",
   "execution_count": 194,
   "metadata": {
    "collapsed": false
   },
   "outputs": [
    {
     "name": "stdout",
     "output_type": "stream",
     "text": [
      "range(0, 12) \n",
      "\n",
      "[1, 1, 1, 1, 1, 1, 1, 1, 1, 1, 1, 1] \n",
      "\n",
      "[0 9 4 3 7 0 3] \n",
      "\n",
      "[2, 0, 0, 2, 1, 0, 0, 1, 0, 1, 0, 0]\n"
     ]
    }
   ],
   "source": [
    "curr_len = X.shape[0]\n",
    "print(range(curr_len),'\\n')\n",
    "extra_needed = target_len-curr_len\n",
    "reps = [1]*(curr_len)\n",
    "print(reps,'\\n')\n",
    "add_ind = rng.randint(0, curr_len, size=extra_needed)\n",
    "print(add_ind,'\\n')\n",
    "new_reps = [np.sum(add_ind==j) for j in range(curr_len)]\n",
    "print(new_reps)"
   ]
  },
  {
   "cell_type": "code",
   "execution_count": 197,
   "metadata": {
    "collapsed": false
   },
   "outputs": [
    {
     "name": "stdout",
     "output_type": "stream",
     "text": [
      "[3 1 1 3 2 1 1 2 1 2 1 1]\n"
     ]
    }
   ],
   "source": [
    "new_reps = np.array(reps) + np.array(new_reps)\n",
    "X = np.repeat(X, new_reps, axis=0)\n",
    "print(new_reps)"
   ]
  },
  {
   "cell_type": "code",
   "execution_count": 198,
   "metadata": {
    "collapsed": false,
    "scrolled": true
   },
   "outputs": [
    {
     "data": {
      "text/plain": [
       "array([[  1.        ,   2.        ,   9.        ,   5.        ,\n",
       "          7.5       ,  10.5       ,  15.        ,  10.5       ,\n",
       "         16.5       ,  23.5       ,   0.99833333,   0.99833333,\n",
       "          0.99833333,   0.99833333,   0.375     ,  -0.125     ,\n",
       "          0.3125    ,   0.875     ,   1.0599976 ,  -1.4100037 ,\n",
       "         -0.3500061 ,   1.0599976 ],\n",
       "       [  1.        ,   2.        ,   9.        ,   5.        ,\n",
       "          7.5       ,  10.5       ,  15.        ,  10.5       ,\n",
       "         16.5       ,  23.5       ,   0.99833333,   0.99833333,\n",
       "          0.99833333,   0.99833333,   0.375     ,  -0.125     ,\n",
       "          0.3125    ,   0.875     ,   1.0599976 ,  -1.4100037 ,\n",
       "         -0.3500061 ,   1.0599976 ],\n",
       "       [  1.        ,   2.        ,   9.        ,   5.        ,\n",
       "          7.5       ,  10.5       ,  15.        ,  10.5       ,\n",
       "         16.5       ,  23.5       ,   0.99833333,   0.99833333,\n",
       "          0.99833333,   0.99833333,   0.375     ,  -0.125     ,\n",
       "          0.3125    ,   0.875     ,   1.0599976 ,  -1.4100037 ,\n",
       "         -0.3500061 ,   1.0599976 ],\n",
       "       [  6.        ,   2.        ,  26.5       ,  22.5       ,\n",
       "         25.5       ,  31.5       ,  26.5       ,  26.5       ,\n",
       "         28.5       ,  32.        ,   1.0016667 ,   0.9816667 ,\n",
       "          0.99833333,   1.005     ,   0.0625    ,  -0.1875    ,\n",
       "          0.25      ,   0.6875    ,   0.        ,   0.        ,\n",
       "          0.        ,   1.4099884 ],\n",
       "       [ 11.        ,   2.        ,  21.5       ,  15.5       ,\n",
       "         20.5       ,  25.        ,  26.5       ,  23.5       ,\n",
       "         25.        ,  27.        ,   1.0016667 ,   0.995     ,\n",
       "          0.99833333,   1.0016667 ,   0.3125    ,  -0.0625    ,\n",
       "          0.3125    ,   0.625     ,   0.34999084,   0.        ,\n",
       "         -0.3500061 ,   1.7599945 ],\n",
       "       [ 16.        ,   2.        ,  18.        ,  14.        ,\n",
       "         17.5       ,  21.        ,  20.5       ,  18.        ,\n",
       "         20.5       ,  23.        ,   0.995     ,   0.995     ,\n",
       "          0.99833333,   1.0016667 ,   0.25      ,   0.125     ,\n",
       "          0.375     ,   0.6875    ,   0.34999084,  -1.0599976 ,\n",
       "          0.        ,   1.0599976 ],\n",
       "       [ 16.        ,   2.        ,  18.        ,  14.        ,\n",
       "         17.5       ,  21.        ,  20.5       ,  18.        ,\n",
       "         20.5       ,  23.        ,   0.995     ,   0.995     ,\n",
       "          0.99833333,   1.0016667 ,   0.25      ,   0.125     ,\n",
       "          0.375     ,   0.6875    ,   0.34999084,  -1.0599976 ,\n",
       "          0.        ,   1.0599976 ],\n",
       "       [ 16.        ,   2.        ,  18.        ,  14.        ,\n",
       "         17.5       ,  21.        ,  20.5       ,  18.        ,\n",
       "         20.5       ,  23.        ,   0.995     ,   0.995     ,\n",
       "          0.99833333,   1.0016667 ,   0.25      ,   0.125     ,\n",
       "          0.375     ,   0.6875    ,   0.34999084,  -1.0599976 ,\n",
       "          0.        ,   1.0599976 ],\n",
       "       [ 21.        ,   2.        ,  24.5       ,  16.5       ,\n",
       "         21.        ,  24.5       ,  24.5       ,  21.        ,\n",
       "         24.        ,  28.        ,   0.99833333,   0.995     ,\n",
       "          0.99833333,   0.99833333,   0.25      ,   0.0625    ,\n",
       "          0.1875    ,   0.5625    ,  -0.3500061 ,  -1.0599976 ,\n",
       "         -0.3500061 ,   1.7599945 ],\n",
       "       [ 21.        ,   2.        ,  24.5       ,  16.5       ,\n",
       "         21.        ,  24.5       ,  24.5       ,  21.        ,\n",
       "         24.        ,  28.        ,   0.99833333,   0.995     ,\n",
       "          0.99833333,   0.99833333,   0.25      ,   0.0625    ,\n",
       "          0.1875    ,   0.5625    ,  -0.3500061 ,  -1.0599976 ,\n",
       "         -0.3500061 ,   1.7599945 ],\n",
       "       [ 26.        ,   2.        ,  12.        ,  12.        ,\n",
       "         16.        ,  20.        ,  16.5       ,  17.        ,\n",
       "         19.        ,  21.        ,   0.99833333,   0.995     ,\n",
       "          0.99833333,   0.99833333,   0.5625    ,   0.25      ,\n",
       "          0.4375    ,   0.6875    ,  -1.7600098 ,  -1.7600098 ,\n",
       "         -0.3500061 ,   0.70999146],\n",
       "       [ 31.        ,   2.        ,  22.5       ,  19.        ,\n",
       "         22.        ,  25.        ,  26.        ,  23.5       ,\n",
       "         25.5       ,  27.5       ,   0.99833333,   0.995     ,\n",
       "          0.99833333,   1.0016667 ,   0.        ,  -0.1875    ,\n",
       "          0.25      ,   0.625     ,  -1.0599976 ,  -2.1200104 ,\n",
       "         -0.7100067 ,   0.34999084],\n",
       "       [ 37.        ,   2.        ,  14.        ,  14.        ,\n",
       "         18.5       ,  21.        ,  19.5       ,  20.        ,\n",
       "         21.        ,  23.        ,   0.99833333,   0.9916667 ,\n",
       "          0.99833333,   0.99833333,   0.5       ,   0.1875    ,\n",
       "          0.4375    ,   0.8125    ,   0.        ,  -1.7600098 ,\n",
       "         -0.3500061 ,   1.0599976 ],\n",
       "       [ 37.        ,   2.        ,  14.        ,  14.        ,\n",
       "         18.5       ,  21.        ,  19.5       ,  20.        ,\n",
       "         21.        ,  23.        ,   0.99833333,   0.9916667 ,\n",
       "          0.99833333,   0.99833333,   0.5       ,   0.1875    ,\n",
       "          0.4375    ,   0.8125    ,   0.        ,  -1.7600098 ,\n",
       "         -0.3500061 ,   1.0599976 ],\n",
       "       [ 42.        ,   2.        ,  12.        ,  11.        ,\n",
       "         12.5       ,  17.        ,  19.5       ,  18.        ,\n",
       "         21.        ,  23.        ,   0.99833333,   0.995     ,\n",
       "          0.99833333,   0.99833333,   0.625     ,   0.375     ,\n",
       "          0.625     ,   0.875     ,  -0.3500061 ,  -0.3500061 ,\n",
       "          0.        ,   0.34999084],\n",
       "       [ 47.        ,   2.        ,   1.5       ,   3.5       ,\n",
       "          7.        ,  10.5       ,  18.        ,  16.5       ,\n",
       "         18.5       ,  21.5       ,   0.99833333,   0.995     ,\n",
       "          0.99833333,   0.99833333,   0.375     ,   0.1875    ,\n",
       "          0.5       ,   0.6875    ,   0.34999084,  -2.1100006 ,\n",
       "         -0.3500061 ,   1.0599976 ],\n",
       "       [ 47.        ,   2.        ,   1.5       ,   3.5       ,\n",
       "          7.        ,  10.5       ,  18.        ,  16.5       ,\n",
       "         18.5       ,  21.5       ,   0.99833333,   0.995     ,\n",
       "          0.99833333,   0.99833333,   0.375     ,   0.1875    ,\n",
       "          0.5       ,   0.6875    ,   0.34999084,  -2.1100006 ,\n",
       "         -0.3500061 ,   1.0599976 ],\n",
       "       [ 53.        ,   2.        ,  16.        ,  14.5       ,\n",
       "         18.        ,  23.5       ,  28.        ,  23.5       ,\n",
       "         26.5       ,  29.5       ,   0.99833333,   0.9916667 ,\n",
       "          0.99833333,   0.99833333,   0.875     ,   0.625     ,\n",
       "          0.9375    ,   1.375     ,  -0.3500061 ,  -1.4100037 ,\n",
       "         -0.3500061 ,   2.119995  ],\n",
       "       [ 58.        ,   2.        ,  22.        ,  16.5       ,\n",
       "         22.5       ,  26.5       ,  31.5       ,  26.5       ,\n",
       "         29.        ,  32.        ,   0.99833333,   0.995     ,\n",
       "          0.99833333,   1.0016667 ,   0.375     ,   0.1875    ,\n",
       "          0.375     ,   0.875     ,  -1.4100037 ,   0.        ,\n",
       "         -0.3500061 ,   0.69999695]])"
      ]
     },
     "execution_count": 198,
     "metadata": {},
     "output_type": "execute_result"
    }
   ],
   "source": [
    "X"
   ]
  },
  {
   "cell_type": "code",
   "execution_count": 73,
   "metadata": {
    "collapsed": false
   },
   "outputs": [],
   "source": [
    "####### 1. Define 'dropin' augmentation function #######\n",
    "def extend_series(X, rng, target_len=19):\n",
    "    \"\"\"Augment time series to a fixed length by duplicating vectors\n",
    "    Args:\n",
    "        X (2D ndarray): Sequence of radar features in a single hour\n",
    "        rng (numpy RandomState object): random number generator\n",
    "        target_len (int): fixed target length of the sequence\n",
    "    Returns:\n",
    "        the augmented sequence\n",
    "    \"\"\"\n",
    "    curr_len = X.shape[0]\n",
    "    extra_needed = target_len-curr_len\n",
    "    if (extra_needed > 0):\n",
    "        reps = [1]*(curr_len)\n",
    "        add_ind = rng.randint(0, curr_len, size=extra_needed)\n",
    "        \n",
    "        new_reps = [np.sum(add_ind==j) for j in range(curr_len)]\n",
    "        new_reps = np.array(reps) + np.array(new_reps)\n",
    "        X = np.repeat(X, new_reps, axis=0)\n",
    "    return(X)"
   ]
  },
  {
   "cell_type": "code",
   "execution_count": 74,
   "metadata": {
    "collapsed": true
   },
   "outputs": [],
   "source": [
    "####### 3. Augment training data #######\n",
    "data = np.load(\"./data/processed_train.npy\")\n",
    "obs_ids_all = np.load(\"./train/obs_ids_train_cv%s.npy\" % (CV))"
   ]
  },
  {
   "cell_type": "code",
   "execution_count": 75,
   "metadata": {
    "collapsed": false
   },
   "outputs": [
    {
     "data": {
      "text/plain": [
       "array([1143540, 1145116,   36121, ...,   64486,  222784,   94338])"
      ]
     },
     "execution_count": 75,
     "metadata": {},
     "output_type": "execute_result"
    }
   ],
   "source": [
    "obs_ids_all"
   ]
  },
  {
   "cell_type": "code",
   "execution_count": 76,
   "metadata": {
    "collapsed": false
   },
   "outputs": [],
   "source": [
    "data_pd = pd.DataFrame(data=data[:,0:], columns=COLUMNS)\n",
    "data_pd_ids_all = np.array(data_pd['Id'])\n",
    "data_pd_ids_selected = np.in1d(data_pd_ids_all, obs_ids_all)\n",
    "data_pd_filtered = data_pd[data_pd_ids_selected]"
   ]
  },
  {
   "cell_type": "code",
   "execution_count": 77,
   "metadata": {
    "collapsed": true
   },
   "outputs": [],
   "source": [
    "data_pd_gp = pd.groupby(data_pd_filtered, \"Id\")\n",
    "data_size = len(data_pd_gp)"
   ]
  },
  {
   "cell_type": "code",
   "execution_count": 78,
   "metadata": {
    "collapsed": false
   },
   "outputs": [
    {
     "name": "stdout",
     "output_type": "stream",
     "text": [
      "(680780,) (680780, 19, 22) 2\n"
     ]
    }
   ],
   "source": [
    "output= np.empty((data_size, INPUT_WIDTH, 22))\n",
    "y_output = np.zeros(data_size)\n",
    "print(y_output.shape,output.shape,NUM_RAND)"
   ]
  },
  {
   "cell_type": "code",
   "execution_count": 79,
   "metadata": {
    "collapsed": false
   },
   "outputs": [
    {
     "name": "stdout",
     "output_type": "stream",
     "text": [
      "X.shape (19, 22)\n",
      "output.shape (680780, 19, 22)\n",
      "X.shape (19, 22)\n",
      "output.shape (680780, 19, 22)\n"
     ]
    }
   ],
   "source": [
    "for jj, rng_seed in enumerate(rng_seed_list[0:NUM_RAND]): \n",
    "    rng = np.random.RandomState(rng_seed) \n",
    "    output = np.empty((data_size, INPUT_WIDTH, 22))\n",
    "    y_output = np.zeros(data_size)\n",
    "    \n",
    "    i = 0\n",
    "    for _, group in data_pd_gp:\n",
    "        group_array = np.array(group)\n",
    "        X = extend_series(group_array[:,1:23], rng, target_len=INPUT_WIDTH) \n",
    "        y = group_array[0,23]\n",
    "        output[i,:,:] = X[:,:]\n",
    "        y_output[i]= y\n",
    "        i += 1\n",
    "    \n",
    "    print( \"X.shape\", X.shape)\n",
    "    print(\"output.shape\", output.shape)\n",
    "    \n",
    "    np.save(\"./train/data_train_augmented_cv%s_t%s_rand%s.npy\" %\n",
    "            (CV, INPUT_WIDTH, jj), output)\n",
    "    np.save(\"./train/data_train_expected_cv%s.npy\" % (CV), y_output) \n",
    "        \n",
    "    gc.collect()"
   ]
  }
 ],
 "metadata": {
  "anaconda-cloud": {},
  "kernelspec": {
   "display_name": "Python [Root]",
   "language": "python",
   "name": "Python [Root]"
  },
  "language_info": {
   "codemirror_mode": {
    "name": "ipython",
    "version": 3
   },
   "file_extension": ".py",
   "mimetype": "text/x-python",
   "name": "python",
   "nbconvert_exporter": "python",
   "pygments_lexer": "ipython3",
   "version": "3.5.2"
  }
 },
 "nbformat": 4,
 "nbformat_minor": 0
}
